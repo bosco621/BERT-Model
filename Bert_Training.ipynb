{
 "cells": [
  {
   "cell_type": "markdown",
   "id": "607ab79f",
   "metadata": {},
   "source": [
    "# BERT Model Training"
   ]
  },
  {
   "cell_type": "markdown",
   "id": "03f6d17c",
   "metadata": {},
   "source": [
    " This part will demonstrate how to train and use the BERT pre-trained language model for sentiment analysis for AI news. "
   ]
  },
  {
   "cell_type": "markdown",
   "id": "3895f923",
   "metadata": {},
   "source": [
    "## About BERT"
   ]
  },
  {
   "cell_type": "markdown",
   "id": "52fee052",
   "metadata": {},
   "source": [
    "<div style=\"text-align: justify\">\n",
    "BERT, which stands for Bidirectional Encoder Representations from Transformers, is built based on transformers, a deep learning model which relates each output to every input element by a weighting dynamically computed based on their associations. It was introduced in October 2018 by researchers at Google. One advantage of using the BERT is that it is pretrained using text from BookCorpus and English Wikipedia and can be fine-tuned with question-and-answer datasets, such that our workload is greatly reduced and the model can be customized for the context of AI news in our project.</div>"
   ]
  },
  {
   "cell_type": "markdown",
   "id": "a2b14fda",
   "metadata": {},
   "source": [
    "## Setup"
   ]
  },
  {
   "cell_type": "code",
   "execution_count": 8,
   "id": "bef3f02b",
   "metadata": {},
   "outputs": [
    {
     "name": "stdout",
     "output_type": "stream",
     "text": [
      "Requirement already satisfied: tensorflow-text==2.13.* in /opt/anaconda3/lib/python3.9/site-packages (2.13.0)\n",
      "Requirement already satisfied: tensorflow-hub>=0.8.0 in /opt/anaconda3/lib/python3.9/site-packages (from tensorflow-text==2.13.*) (0.16.1)\n",
      "Requirement already satisfied: tensorflow<2.14,>=2.13.0 in /opt/anaconda3/lib/python3.9/site-packages (from tensorflow-text==2.13.*) (2.13.1)\n",
      "Requirement already satisfied: absl-py>=1.0.0 in /opt/anaconda3/lib/python3.9/site-packages (from tensorflow<2.14,>=2.13.0->tensorflow-text==2.13.*) (1.4.0)\n",
      "Requirement already satisfied: astunparse>=1.6.0 in /opt/anaconda3/lib/python3.9/site-packages (from tensorflow<2.14,>=2.13.0->tensorflow-text==2.13.*) (1.6.3)\n",
      "Requirement already satisfied: flatbuffers>=23.1.21 in /opt/anaconda3/lib/python3.9/site-packages (from tensorflow<2.14,>=2.13.0->tensorflow-text==2.13.*) (24.3.25)\n",
      "Requirement already satisfied: gast<=0.4.0,>=0.2.1 in /opt/anaconda3/lib/python3.9/site-packages (from tensorflow<2.14,>=2.13.0->tensorflow-text==2.13.*) (0.4.0)\n",
      "Requirement already satisfied: google-pasta>=0.1.1 in /opt/anaconda3/lib/python3.9/site-packages (from tensorflow<2.14,>=2.13.0->tensorflow-text==2.13.*) (0.2.0)\n",
      "Requirement already satisfied: h5py>=2.9.0 in /opt/anaconda3/lib/python3.9/site-packages (from tensorflow<2.14,>=2.13.0->tensorflow-text==2.13.*) (3.11.0)\n",
      "Requirement already satisfied: libclang>=13.0.0 in /opt/anaconda3/lib/python3.9/site-packages (from tensorflow<2.14,>=2.13.0->tensorflow-text==2.13.*) (18.1.1)\n",
      "Requirement already satisfied: numpy<=1.24.3,>=1.22 in /opt/anaconda3/lib/python3.9/site-packages (from tensorflow<2.14,>=2.13.0->tensorflow-text==2.13.*) (1.24.3)\n",
      "Requirement already satisfied: opt-einsum>=2.3.2 in /opt/anaconda3/lib/python3.9/site-packages (from tensorflow<2.14,>=2.13.0->tensorflow-text==2.13.*) (3.3.0)\n",
      "Requirement already satisfied: packaging in /opt/anaconda3/lib/python3.9/site-packages (from tensorflow<2.14,>=2.13.0->tensorflow-text==2.13.*) (23.1)\n",
      "Requirement already satisfied: protobuf!=4.21.0,!=4.21.1,!=4.21.2,!=4.21.3,!=4.21.4,!=4.21.5,<5.0.0dev,>=3.20.3 in /opt/anaconda3/lib/python3.9/site-packages (from tensorflow<2.14,>=2.13.0->tensorflow-text==2.13.*) (3.20.3)\n",
      "Requirement already satisfied: setuptools in /opt/anaconda3/lib/python3.9/site-packages (from tensorflow<2.14,>=2.13.0->tensorflow-text==2.13.*) (68.0.0)\n",
      "Requirement already satisfied: six>=1.12.0 in /opt/anaconda3/lib/python3.9/site-packages (from tensorflow<2.14,>=2.13.0->tensorflow-text==2.13.*) (1.16.0)\n",
      "Requirement already satisfied: termcolor>=1.1.0 in /opt/anaconda3/lib/python3.9/site-packages (from tensorflow<2.14,>=2.13.0->tensorflow-text==2.13.*) (2.1.0)\n",
      "Requirement already satisfied: typing-extensions<4.6.0,>=3.6.6 in /opt/anaconda3/lib/python3.9/site-packages (from tensorflow<2.14,>=2.13.0->tensorflow-text==2.13.*) (4.5.0)\n",
      "Requirement already satisfied: wrapt>=1.11.0 in /opt/anaconda3/lib/python3.9/site-packages (from tensorflow<2.14,>=2.13.0->tensorflow-text==2.13.*) (1.14.1)\n",
      "Requirement already satisfied: grpcio<2.0,>=1.24.3 in /opt/anaconda3/lib/python3.9/site-packages (from tensorflow<2.14,>=2.13.0->tensorflow-text==2.13.*) (1.62.1)\n",
      "Requirement already satisfied: tensorboard<2.14,>=2.13 in /opt/anaconda3/lib/python3.9/site-packages (from tensorflow<2.14,>=2.13.0->tensorflow-text==2.13.*) (2.13.0)\n",
      "Requirement already satisfied: tensorflow-estimator<2.14,>=2.13.0 in /opt/anaconda3/lib/python3.9/site-packages (from tensorflow<2.14,>=2.13.0->tensorflow-text==2.13.*) (2.13.0)\n",
      "Requirement already satisfied: keras<2.14,>=2.13.1 in /opt/anaconda3/lib/python3.9/site-packages (from tensorflow<2.14,>=2.13.0->tensorflow-text==2.13.*) (2.13.1)\n",
      "Requirement already satisfied: tensorflow-io-gcs-filesystem>=0.23.1 in /opt/anaconda3/lib/python3.9/site-packages (from tensorflow<2.14,>=2.13.0->tensorflow-text==2.13.*) (0.36.0)\n",
      "Requirement already satisfied: tf-keras>=2.14.1 in /opt/anaconda3/lib/python3.9/site-packages (from tensorflow-hub>=0.8.0->tensorflow-text==2.13.*) (2.15.0)\n",
      "Requirement already satisfied: wheel<1.0,>=0.23.0 in /opt/anaconda3/lib/python3.9/site-packages (from astunparse>=1.6.0->tensorflow<2.14,>=2.13.0->tensorflow-text==2.13.*) (0.35.1)\n",
      "Requirement already satisfied: google-auth<3,>=1.6.3 in /opt/anaconda3/lib/python3.9/site-packages (from tensorboard<2.14,>=2.13->tensorflow<2.14,>=2.13.0->tensorflow-text==2.13.*) (2.22.0)\n",
      "Requirement already satisfied: google-auth-oauthlib<1.1,>=0.5 in /opt/anaconda3/lib/python3.9/site-packages (from tensorboard<2.14,>=2.13->tensorflow<2.14,>=2.13.0->tensorflow-text==2.13.*) (1.0.0)\n",
      "Requirement already satisfied: markdown>=2.6.8 in /opt/anaconda3/lib/python3.9/site-packages (from tensorboard<2.14,>=2.13->tensorflow<2.14,>=2.13.0->tensorflow-text==2.13.*) (3.4.1)\n",
      "Requirement already satisfied: requests<3,>=2.21.0 in /opt/anaconda3/lib/python3.9/site-packages (from tensorboard<2.14,>=2.13->tensorflow<2.14,>=2.13.0->tensorflow-text==2.13.*) (2.28.1)\n",
      "Requirement already satisfied: tensorboard-data-server<0.8.0,>=0.7.0 in /opt/anaconda3/lib/python3.9/site-packages (from tensorboard<2.14,>=2.13->tensorflow<2.14,>=2.13.0->tensorflow-text==2.13.*) (0.7.2)\n",
      "Requirement already satisfied: werkzeug>=1.0.1 in /opt/anaconda3/lib/python3.9/site-packages (from tensorboard<2.14,>=2.13->tensorflow<2.14,>=2.13.0->tensorflow-text==2.13.*) (2.0.3)\n",
      "Requirement already satisfied: cachetools<6.0,>=2.0.0 in /opt/anaconda3/lib/python3.9/site-packages (from google-auth<3,>=1.6.3->tensorboard<2.14,>=2.13->tensorflow<2.14,>=2.13.0->tensorflow-text==2.13.*) (4.2.2)\n",
      "Requirement already satisfied: pyasn1-modules>=0.2.1 in /opt/anaconda3/lib/python3.9/site-packages (from google-auth<3,>=1.6.3->tensorboard<2.14,>=2.13->tensorflow<2.14,>=2.13.0->tensorflow-text==2.13.*) (0.2.8)\n",
      "Requirement already satisfied: rsa<5,>=3.1.4 in /opt/anaconda3/lib/python3.9/site-packages (from google-auth<3,>=1.6.3->tensorboard<2.14,>=2.13->tensorflow<2.14,>=2.13.0->tensorflow-text==2.13.*) (4.7.2)\n",
      "Requirement already satisfied: urllib3<2.0 in /opt/anaconda3/lib/python3.9/site-packages (from google-auth<3,>=1.6.3->tensorboard<2.14,>=2.13->tensorflow<2.14,>=2.13.0->tensorflow-text==2.13.*) (1.26.18)\n",
      "Requirement already satisfied: requests-oauthlib>=0.7.0 in /opt/anaconda3/lib/python3.9/site-packages (from google-auth-oauthlib<1.1,>=0.5->tensorboard<2.14,>=2.13->tensorflow<2.14,>=2.13.0->tensorflow-text==2.13.*) (1.3.0)\n",
      "Requirement already satisfied: importlib-metadata>=4.4 in /opt/anaconda3/lib/python3.9/site-packages (from markdown>=2.6.8->tensorboard<2.14,>=2.13->tensorflow<2.14,>=2.13.0->tensorflow-text==2.13.*) (6.0.0)\n",
      "Requirement already satisfied: charset-normalizer<3,>=2 in /opt/anaconda3/lib/python3.9/site-packages (from requests<3,>=2.21.0->tensorboard<2.14,>=2.13->tensorflow<2.14,>=2.13.0->tensorflow-text==2.13.*) (2.0.4)\n",
      "Requirement already satisfied: idna<4,>=2.5 in /opt/anaconda3/lib/python3.9/site-packages (from requests<3,>=2.21.0->tensorboard<2.14,>=2.13->tensorflow<2.14,>=2.13.0->tensorflow-text==2.13.*) (3.4)\n",
      "Requirement already satisfied: certifi>=2017.4.17 in /opt/anaconda3/lib/python3.9/site-packages (from requests<3,>=2.21.0->tensorboard<2.14,>=2.13->tensorflow<2.14,>=2.13.0->tensorflow-text==2.13.*) (2024.2.2)\n",
      "Requirement already satisfied: zipp>=0.5 in /opt/anaconda3/lib/python3.9/site-packages (from importlib-metadata>=4.4->markdown>=2.6.8->tensorboard<2.14,>=2.13->tensorflow<2.14,>=2.13.0->tensorflow-text==2.13.*) (3.11.0)\n",
      "Requirement already satisfied: pyasn1<0.5.0,>=0.4.6 in /opt/anaconda3/lib/python3.9/site-packages (from pyasn1-modules>=0.2.1->google-auth<3,>=1.6.3->tensorboard<2.14,>=2.13->tensorflow<2.14,>=2.13.0->tensorflow-text==2.13.*) (0.4.8)\n",
      "Requirement already satisfied: oauthlib>=3.0.0 in /opt/anaconda3/lib/python3.9/site-packages (from requests-oauthlib>=0.7.0->google-auth-oauthlib<1.1,>=0.5->tensorboard<2.14,>=2.13->tensorflow<2.14,>=2.13.0->tensorflow-text==2.13.*) (3.2.2)\n",
      "Requirement already satisfied: tf-models-official==2.13.* in /opt/anaconda3/lib/python3.9/site-packages (2.13.2)\n",
      "Requirement already satisfied: Cython in /opt/anaconda3/lib/python3.9/site-packages (from tf-models-official==2.13.*) (3.0.0)\n",
      "Requirement already satisfied: Pillow in /opt/anaconda3/lib/python3.9/site-packages (from tf-models-official==2.13.*) (10.0.1)\n",
      "Requirement already satisfied: gin-config in /opt/anaconda3/lib/python3.9/site-packages (from tf-models-official==2.13.*) (0.5.0)\n",
      "Requirement already satisfied: google-api-python-client>=1.6.7 in /opt/anaconda3/lib/python3.9/site-packages (from tf-models-official==2.13.*) (2.125.0)\n",
      "Requirement already satisfied: immutabledict in /opt/anaconda3/lib/python3.9/site-packages (from tf-models-official==2.13.*) (4.2.0)\n",
      "Requirement already satisfied: kaggle>=1.3.9 in /opt/anaconda3/lib/python3.9/site-packages (from tf-models-official==2.13.*) (1.6.11)\n",
      "Requirement already satisfied: matplotlib in /opt/anaconda3/lib/python3.9/site-packages (from tf-models-official==2.13.*) (3.8.0)\n",
      "Requirement already satisfied: numpy>=1.20 in /opt/anaconda3/lib/python3.9/site-packages (from tf-models-official==2.13.*) (1.24.3)\n",
      "Requirement already satisfied: oauth2client in /opt/anaconda3/lib/python3.9/site-packages (from tf-models-official==2.13.*) (4.1.3)\n",
      "Requirement already satisfied: opencv-python-headless in /opt/anaconda3/lib/python3.9/site-packages (from tf-models-official==2.13.*) (4.9.0.80)\n",
      "Requirement already satisfied: pandas>=0.22.0 in /opt/anaconda3/lib/python3.9/site-packages (from tf-models-official==2.13.*) (1.4.4)\n",
      "Requirement already satisfied: psutil>=5.4.3 in /opt/anaconda3/lib/python3.9/site-packages (from tf-models-official==2.13.*) (5.9.0)\n",
      "Requirement already satisfied: py-cpuinfo>=3.3.0 in /opt/anaconda3/lib/python3.9/site-packages (from tf-models-official==2.13.*) (9.0.0)\n",
      "Requirement already satisfied: pycocotools in /opt/anaconda3/lib/python3.9/site-packages (from tf-models-official==2.13.*) (2.0.7)\n",
      "Requirement already satisfied: pyyaml>=6.0.0 in /opt/anaconda3/lib/python3.9/site-packages (from tf-models-official==2.13.*) (6.0.1)\n",
      "Requirement already satisfied: sacrebleu in /opt/anaconda3/lib/python3.9/site-packages (from tf-models-official==2.13.*) (2.4.1)\n",
      "Requirement already satisfied: scipy>=0.19.1 in /opt/anaconda3/lib/python3.9/site-packages (from tf-models-official==2.13.*) (1.10.0)\n",
      "Requirement already satisfied: sentencepiece in /opt/anaconda3/lib/python3.9/site-packages (from tf-models-official==2.13.*) (0.2.0)\n",
      "Requirement already satisfied: seqeval in /opt/anaconda3/lib/python3.9/site-packages (from tf-models-official==2.13.*) (1.2.2)\n",
      "Requirement already satisfied: six in /opt/anaconda3/lib/python3.9/site-packages (from tf-models-official==2.13.*) (1.16.0)\n",
      "Requirement already satisfied: tensorflow-datasets in /opt/anaconda3/lib/python3.9/site-packages (from tf-models-official==2.13.*) (4.9.3)\n",
      "Requirement already satisfied: tensorflow-hub>=0.6.0 in /opt/anaconda3/lib/python3.9/site-packages (from tf-models-official==2.13.*) (0.16.1)\n",
      "Requirement already satisfied: tensorflow-model-optimization>=0.4.1 in /opt/anaconda3/lib/python3.9/site-packages (from tf-models-official==2.13.*) (0.8.0)\n",
      "Requirement already satisfied: tensorflow-text~=2.13.0 in /opt/anaconda3/lib/python3.9/site-packages (from tf-models-official==2.13.*) (2.13.0)\n",
      "Requirement already satisfied: tensorflow~=2.13.0 in /opt/anaconda3/lib/python3.9/site-packages (from tf-models-official==2.13.*) (2.13.1)\n",
      "Requirement already satisfied: tf-slim>=1.1.0 in /opt/anaconda3/lib/python3.9/site-packages (from tf-models-official==2.13.*) (1.1.0)\n",
      "Requirement already satisfied: httplib2<1.dev0,>=0.19.0 in /opt/anaconda3/lib/python3.9/site-packages (from google-api-python-client>=1.6.7->tf-models-official==2.13.*) (0.22.0)\n",
      "Requirement already satisfied: google-auth!=2.24.0,!=2.25.0,<3.0.0.dev0,>=1.32.0 in /opt/anaconda3/lib/python3.9/site-packages (from google-api-python-client>=1.6.7->tf-models-official==2.13.*) (2.22.0)\n",
      "Requirement already satisfied: google-auth-httplib2<1.0.0,>=0.2.0 in /opt/anaconda3/lib/python3.9/site-packages (from google-api-python-client>=1.6.7->tf-models-official==2.13.*) (0.2.0)\n",
      "Requirement already satisfied: google-api-core!=2.0.*,!=2.1.*,!=2.2.*,!=2.3.0,<3.0.0.dev0,>=1.31.5 in /opt/anaconda3/lib/python3.9/site-packages (from google-api-python-client>=1.6.7->tf-models-official==2.13.*) (2.18.0)\n",
      "Requirement already satisfied: uritemplate<5,>=3.0.1 in /opt/anaconda3/lib/python3.9/site-packages (from google-api-python-client>=1.6.7->tf-models-official==2.13.*) (4.1.1)\n"
     ]
    },
    {
     "name": "stdout",
     "output_type": "stream",
     "text": [
      "Requirement already satisfied: certifi>=2023.7.22 in /opt/anaconda3/lib/python3.9/site-packages (from kaggle>=1.3.9->tf-models-official==2.13.*) (2024.2.2)\n",
      "Requirement already satisfied: python-dateutil in /opt/anaconda3/lib/python3.9/site-packages (from kaggle>=1.3.9->tf-models-official==2.13.*) (2.8.2)\n",
      "Requirement already satisfied: requests in /opt/anaconda3/lib/python3.9/site-packages (from kaggle>=1.3.9->tf-models-official==2.13.*) (2.28.1)\n",
      "Requirement already satisfied: tqdm in /opt/anaconda3/lib/python3.9/site-packages (from kaggle>=1.3.9->tf-models-official==2.13.*) (4.65.0)\n",
      "Requirement already satisfied: python-slugify in /opt/anaconda3/lib/python3.9/site-packages (from kaggle>=1.3.9->tf-models-official==2.13.*) (5.0.2)\n",
      "Requirement already satisfied: urllib3 in /opt/anaconda3/lib/python3.9/site-packages (from kaggle>=1.3.9->tf-models-official==2.13.*) (1.26.18)\n",
      "Requirement already satisfied: bleach in /opt/anaconda3/lib/python3.9/site-packages (from kaggle>=1.3.9->tf-models-official==2.13.*) (4.1.0)\n",
      "Requirement already satisfied: pytz>=2020.1 in /opt/anaconda3/lib/python3.9/site-packages (from pandas>=0.22.0->tf-models-official==2.13.*) (2023.3.post1)\n",
      "Requirement already satisfied: absl-py>=1.0.0 in /opt/anaconda3/lib/python3.9/site-packages (from tensorflow~=2.13.0->tf-models-official==2.13.*) (1.4.0)\n",
      "Requirement already satisfied: astunparse>=1.6.0 in /opt/anaconda3/lib/python3.9/site-packages (from tensorflow~=2.13.0->tf-models-official==2.13.*) (1.6.3)\n",
      "Requirement already satisfied: flatbuffers>=23.1.21 in /opt/anaconda3/lib/python3.9/site-packages (from tensorflow~=2.13.0->tf-models-official==2.13.*) (24.3.25)\n",
      "Requirement already satisfied: gast<=0.4.0,>=0.2.1 in /opt/anaconda3/lib/python3.9/site-packages (from tensorflow~=2.13.0->tf-models-official==2.13.*) (0.4.0)\n",
      "Requirement already satisfied: google-pasta>=0.1.1 in /opt/anaconda3/lib/python3.9/site-packages (from tensorflow~=2.13.0->tf-models-official==2.13.*) (0.2.0)\n",
      "Requirement already satisfied: h5py>=2.9.0 in /opt/anaconda3/lib/python3.9/site-packages (from tensorflow~=2.13.0->tf-models-official==2.13.*) (3.11.0)\n",
      "Requirement already satisfied: libclang>=13.0.0 in /opt/anaconda3/lib/python3.9/site-packages (from tensorflow~=2.13.0->tf-models-official==2.13.*) (18.1.1)\n",
      "Requirement already satisfied: opt-einsum>=2.3.2 in /opt/anaconda3/lib/python3.9/site-packages (from tensorflow~=2.13.0->tf-models-official==2.13.*) (3.3.0)\n",
      "Requirement already satisfied: packaging in /opt/anaconda3/lib/python3.9/site-packages (from tensorflow~=2.13.0->tf-models-official==2.13.*) (23.1)\n",
      "Requirement already satisfied: protobuf!=4.21.0,!=4.21.1,!=4.21.2,!=4.21.3,!=4.21.4,!=4.21.5,<5.0.0dev,>=3.20.3 in /opt/anaconda3/lib/python3.9/site-packages (from tensorflow~=2.13.0->tf-models-official==2.13.*) (3.20.3)\n",
      "Requirement already satisfied: setuptools in /opt/anaconda3/lib/python3.9/site-packages (from tensorflow~=2.13.0->tf-models-official==2.13.*) (68.0.0)\n",
      "Requirement already satisfied: termcolor>=1.1.0 in /opt/anaconda3/lib/python3.9/site-packages (from tensorflow~=2.13.0->tf-models-official==2.13.*) (2.1.0)\n",
      "Requirement already satisfied: typing-extensions<4.6.0,>=3.6.6 in /opt/anaconda3/lib/python3.9/site-packages (from tensorflow~=2.13.0->tf-models-official==2.13.*) (4.5.0)\n",
      "Requirement already satisfied: wrapt>=1.11.0 in /opt/anaconda3/lib/python3.9/site-packages (from tensorflow~=2.13.0->tf-models-official==2.13.*) (1.14.1)\n",
      "Requirement already satisfied: grpcio<2.0,>=1.24.3 in /opt/anaconda3/lib/python3.9/site-packages (from tensorflow~=2.13.0->tf-models-official==2.13.*) (1.62.1)\n",
      "Requirement already satisfied: tensorboard<2.14,>=2.13 in /opt/anaconda3/lib/python3.9/site-packages (from tensorflow~=2.13.0->tf-models-official==2.13.*) (2.13.0)\n",
      "Requirement already satisfied: tensorflow-estimator<2.14,>=2.13.0 in /opt/anaconda3/lib/python3.9/site-packages (from tensorflow~=2.13.0->tf-models-official==2.13.*) (2.13.0)\n",
      "Requirement already satisfied: keras<2.14,>=2.13.1 in /opt/anaconda3/lib/python3.9/site-packages (from tensorflow~=2.13.0->tf-models-official==2.13.*) (2.13.1)\n",
      "Requirement already satisfied: tensorflow-io-gcs-filesystem>=0.23.1 in /opt/anaconda3/lib/python3.9/site-packages (from tensorflow~=2.13.0->tf-models-official==2.13.*) (0.36.0)\n",
      "Requirement already satisfied: tf-keras>=2.14.1 in /opt/anaconda3/lib/python3.9/site-packages (from tensorflow-hub>=0.6.0->tf-models-official==2.13.*) (2.15.0)\n",
      "Requirement already satisfied: dm-tree~=0.1.1 in /opt/anaconda3/lib/python3.9/site-packages (from tensorflow-model-optimization>=0.4.1->tf-models-official==2.13.*) (0.1.8)\n",
      "Requirement already satisfied: contourpy>=1.0.1 in /opt/anaconda3/lib/python3.9/site-packages (from matplotlib->tf-models-official==2.13.*) (1.0.5)\n",
      "Requirement already satisfied: cycler>=0.10 in /opt/anaconda3/lib/python3.9/site-packages (from matplotlib->tf-models-official==2.13.*) (0.11.0)\n",
      "Requirement already satisfied: fonttools>=4.22.0 in /opt/anaconda3/lib/python3.9/site-packages (from matplotlib->tf-models-official==2.13.*) (4.25.0)\n",
      "Requirement already satisfied: kiwisolver>=1.0.1 in /opt/anaconda3/lib/python3.9/site-packages (from matplotlib->tf-models-official==2.13.*) (1.4.4)\n",
      "Requirement already satisfied: pyparsing>=2.3.1 in /opt/anaconda3/lib/python3.9/site-packages (from matplotlib->tf-models-official==2.13.*) (3.0.9)\n",
      "Requirement already satisfied: importlib-resources>=3.2.0 in /opt/anaconda3/lib/python3.9/site-packages (from matplotlib->tf-models-official==2.13.*) (6.1.0)\n",
      "Requirement already satisfied: pyasn1>=0.1.7 in /opt/anaconda3/lib/python3.9/site-packages (from oauth2client->tf-models-official==2.13.*) (0.4.8)\n",
      "Requirement already satisfied: pyasn1-modules>=0.0.5 in /opt/anaconda3/lib/python3.9/site-packages (from oauth2client->tf-models-official==2.13.*) (0.2.8)\n",
      "Requirement already satisfied: rsa>=3.1.4 in /opt/anaconda3/lib/python3.9/site-packages (from oauth2client->tf-models-official==2.13.*) (4.7.2)\n",
      "Requirement already satisfied: portalocker in /opt/anaconda3/lib/python3.9/site-packages (from sacrebleu->tf-models-official==2.13.*) (2.8.2)\n",
      "Requirement already satisfied: regex in /opt/anaconda3/lib/python3.9/site-packages (from sacrebleu->tf-models-official==2.13.*) (2023.10.3)\n",
      "Requirement already satisfied: tabulate>=0.8.9 in /opt/anaconda3/lib/python3.9/site-packages (from sacrebleu->tf-models-official==2.13.*) (0.8.10)\n",
      "Requirement already satisfied: colorama in /opt/anaconda3/lib/python3.9/site-packages (from sacrebleu->tf-models-official==2.13.*) (0.4.6)\n",
      "Requirement already satisfied: lxml in /opt/anaconda3/lib/python3.9/site-packages (from sacrebleu->tf-models-official==2.13.*) (4.9.3)\n",
      "Requirement already satisfied: scikit-learn>=0.21.3 in /opt/anaconda3/lib/python3.9/site-packages (from seqeval->tf-models-official==2.13.*) (1.2.2)\n",
      "Requirement already satisfied: array-record in /opt/anaconda3/lib/python3.9/site-packages (from tensorflow-datasets->tf-models-official==2.13.*) (0.4.1)\n",
      "Requirement already satisfied: click in /opt/anaconda3/lib/python3.9/site-packages (from tensorflow-datasets->tf-models-official==2.13.*) (8.1.7)\n",
      "Requirement already satisfied: etils>=0.9.0 in /opt/anaconda3/lib/python3.9/site-packages (from etils[enp,epath,etree]>=0.9.0->tensorflow-datasets->tf-models-official==2.13.*) (1.5.2)\n",
      "Requirement already satisfied: promise in /opt/anaconda3/lib/python3.9/site-packages (from tensorflow-datasets->tf-models-official==2.13.*) (2.3)\n",
      "Requirement already satisfied: tensorflow-metadata in /opt/anaconda3/lib/python3.9/site-packages (from tensorflow-datasets->tf-models-official==2.13.*) (1.14.0)\n",
      "Requirement already satisfied: toml in /opt/anaconda3/lib/python3.9/site-packages (from tensorflow-datasets->tf-models-official==2.13.*) (0.10.2)\n",
      "Requirement already satisfied: wheel<1.0,>=0.23.0 in /opt/anaconda3/lib/python3.9/site-packages (from astunparse>=1.6.0->tensorflow~=2.13.0->tf-models-official==2.13.*) (0.35.1)\n",
      "Requirement already satisfied: fsspec in /opt/anaconda3/lib/python3.9/site-packages (from etils[enp,epath,etree]>=0.9.0->tensorflow-datasets->tf-models-official==2.13.*) (2023.4.0)\n",
      "Requirement already satisfied: zipp in /opt/anaconda3/lib/python3.9/site-packages (from etils[enp,epath,etree]>=0.9.0->tensorflow-datasets->tf-models-official==2.13.*) (3.11.0)\n",
      "Requirement already satisfied: googleapis-common-protos<2.0.dev0,>=1.56.2 in /opt/anaconda3/lib/python3.9/site-packages (from google-api-core!=2.0.*,!=2.1.*,!=2.2.*,!=2.3.0,<3.0.0.dev0,>=1.31.5->google-api-python-client>=1.6.7->tf-models-official==2.13.*) (1.63.0)\n"
     ]
    },
    {
     "name": "stdout",
     "output_type": "stream",
     "text": [
      "Requirement already satisfied: proto-plus<2.0.0dev,>=1.22.3 in /opt/anaconda3/lib/python3.9/site-packages (from google-api-core!=2.0.*,!=2.1.*,!=2.2.*,!=2.3.0,<3.0.0.dev0,>=1.31.5->google-api-python-client>=1.6.7->tf-models-official==2.13.*) (1.23.0)\n",
      "Requirement already satisfied: cachetools<6.0,>=2.0.0 in /opt/anaconda3/lib/python3.9/site-packages (from google-auth!=2.24.0,!=2.25.0,<3.0.0.dev0,>=1.32.0->google-api-python-client>=1.6.7->tf-models-official==2.13.*) (4.2.2)\n",
      "Requirement already satisfied: charset-normalizer<3,>=2 in /opt/anaconda3/lib/python3.9/site-packages (from requests->kaggle>=1.3.9->tf-models-official==2.13.*) (2.0.4)\n",
      "Requirement already satisfied: idna<4,>=2.5 in /opt/anaconda3/lib/python3.9/site-packages (from requests->kaggle>=1.3.9->tf-models-official==2.13.*) (3.4)\n",
      "Requirement already satisfied: joblib>=1.1.1 in /opt/anaconda3/lib/python3.9/site-packages (from scikit-learn>=0.21.3->seqeval->tf-models-official==2.13.*) (1.2.0)\n",
      "Requirement already satisfied: threadpoolctl>=2.0.0 in /opt/anaconda3/lib/python3.9/site-packages (from scikit-learn>=0.21.3->seqeval->tf-models-official==2.13.*) (2.2.0)\n",
      "Requirement already satisfied: google-auth-oauthlib<1.1,>=0.5 in /opt/anaconda3/lib/python3.9/site-packages (from tensorboard<2.14,>=2.13->tensorflow~=2.13.0->tf-models-official==2.13.*) (1.0.0)\n",
      "Requirement already satisfied: markdown>=2.6.8 in /opt/anaconda3/lib/python3.9/site-packages (from tensorboard<2.14,>=2.13->tensorflow~=2.13.0->tf-models-official==2.13.*) (3.4.1)\n",
      "Requirement already satisfied: tensorboard-data-server<0.8.0,>=0.7.0 in /opt/anaconda3/lib/python3.9/site-packages (from tensorboard<2.14,>=2.13->tensorflow~=2.13.0->tf-models-official==2.13.*) (0.7.2)\n",
      "Requirement already satisfied: werkzeug>=1.0.1 in /opt/anaconda3/lib/python3.9/site-packages (from tensorboard<2.14,>=2.13->tensorflow~=2.13.0->tf-models-official==2.13.*) (2.0.3)\n",
      "Requirement already satisfied: webencodings in /opt/anaconda3/lib/python3.9/site-packages (from bleach->kaggle>=1.3.9->tf-models-official==2.13.*) (0.5.1)\n",
      "Requirement already satisfied: text-unidecode>=1.3 in /opt/anaconda3/lib/python3.9/site-packages (from python-slugify->kaggle>=1.3.9->tf-models-official==2.13.*) (1.3)\n",
      "Requirement already satisfied: requests-oauthlib>=0.7.0 in /opt/anaconda3/lib/python3.9/site-packages (from google-auth-oauthlib<1.1,>=0.5->tensorboard<2.14,>=2.13->tensorflow~=2.13.0->tf-models-official==2.13.*) (1.3.0)\n",
      "Requirement already satisfied: importlib-metadata>=4.4 in /opt/anaconda3/lib/python3.9/site-packages (from markdown>=2.6.8->tensorboard<2.14,>=2.13->tensorflow~=2.13.0->tf-models-official==2.13.*) (6.0.0)\n",
      "Requirement already satisfied: oauthlib>=3.0.0 in /opt/anaconda3/lib/python3.9/site-packages (from requests-oauthlib>=0.7.0->google-auth-oauthlib<1.1,>=0.5->tensorboard<2.14,>=2.13->tensorflow~=2.13.0->tf-models-official==2.13.*) (3.2.2)\n"
     ]
    }
   ],
   "source": [
    "# A dependency of the preprocessing for BERT inputs\n",
    "!pip install -U \"tensorflow-text==2.13.*\"\n",
    "\n",
    "# AdamW optimizer from tensorflow/models.\n",
    "!pip install \"tf-models-official==2.13.*\""
   ]
  },
  {
   "cell_type": "markdown",
   "id": "2244ddc3",
   "metadata": {},
   "source": [
    "## Modules"
   ]
  },
  {
   "cell_type": "code",
   "execution_count": 1,
   "id": "ae517efb",
   "metadata": {},
   "outputs": [
    {
     "name": "stderr",
     "output_type": "stream",
     "text": [
      "2024-04-23 16:37:37.457257: I tensorflow/core/platform/cpu_feature_guard.cc:182] This TensorFlow binary is optimized to use available CPU instructions in performance-critical operations.\n",
      "To enable the following instructions: AVX2 FMA, in other operations, rebuild TensorFlow with the appropriate compiler flags.\n"
     ]
    }
   ],
   "source": [
    "import os  # For interacting with the operating system\n",
    "import shutil  # For high-level operations on files and directories\n",
    "import random\n",
    "\n",
    "import tensorflow as tf\n",
    "import tensorflow_hub as hub\n",
    "import tensorflow_text as text\n",
    "from official.nlp import optimization  # to create AdamW optimizer\n",
    "from sklearn.model_selection import train_test_split\n",
    "\n",
    "import numpy as np\n",
    "import pandas as pd\n",
    "import matplotlib.pyplot as plt\n",
    "\n",
    "tf.get_logger().setLevel('ERROR') # Set TensorFlow logging level to ERROR"
   ]
  },
  {
   "cell_type": "markdown",
   "id": "504d19b8",
   "metadata": {},
   "source": [
    "## Data Preparation"
   ]
  },
  {
   "cell_type": "markdown",
   "id": "402b81fc",
   "metadata": {},
   "source": [
    "### Read Preprocessed Dataset"
   ]
  },
  {
   "cell_type": "markdown",
   "id": "d8d00bc6",
   "metadata": {},
   "source": [
    "<div style=\"text-align: justify\">\n",
    "In this step, we need to read the preprocessed data from a text file. To ensure convenience in later steps, we need to transform the data into a list that stores lists of <code>[sentence, label]</code>.</div>"
   ]
  },
  {
   "cell_type": "code",
   "execution_count": 62,
   "id": "4104b11a",
   "metadata": {},
   "outputs": [],
   "source": [
    "import re\n",
    "\n",
    "data = []\n",
    "# Read data from the file\n",
    "with open('combined_result.txt', 'r') as file:\n",
    "    for line in file:\n",
    "        # Remove leading and trailing whitespace and newline character\n",
    "        line = line.strip()\n",
    "        # Remove the square brackets\n",
    "        line = line.strip(\"[]\")\n",
    "        # Extract the sentence and label\n",
    "        match = re.match(r'^(.+?),\\s*(\\d+)$', line)\n",
    "        if match:\n",
    "            # Find the index of the last comma in the line\n",
    "            last_comma_index = line.rindex(',')\n",
    "            sentence = line[:last_comma_index].strip()\n",
    "            label = int(line[last_comma_index + 1:].strip())\n",
    "            data.append([sentence, label])"
   ]
  },
  {
   "cell_type": "markdown",
   "id": "f1259f75",
   "metadata": {},
   "source": [
    "Then, we have to create a labeled `tf.data.Dataset` and split it into training set, validation set and test set."
   ]
  },
  {
   "cell_type": "code",
   "execution_count": 63,
   "id": "6fb7901d",
   "metadata": {},
   "outputs": [],
   "source": [
    "AUTOTUNE = tf.data.AUTOTUNE\n",
    "batch_size = 32\n",
    "seed = 42\n",
    "\n",
    "# Convert the 'data' list to NumPy arrays\n",
    "data = np.array(data)\n",
    "\n",
    "# Split the data into train and test sets (80% train, 20% test)\n",
    "train, test, train_labels, test_labels = train_test_split(\n",
    "    data[:, 0], data[:, 1], test_size=0.2, random_state=seed)\n",
    "\n",
    "# Split the train data further to create a validation set (20% of train)\n",
    "train, val, train_labels, val_labels = train_test_split(\n",
    "    train, train_labels, test_size=0.2, random_state=seed)\n",
    "\n",
    "# Convert labels to integers\n",
    "train_labels = train_labels.astype(int)\n",
    "val_labels = val_labels.astype(int)\n",
    "test_labels = test_labels.astype(int)\n",
    "\n",
    "# Create tf.data.Dataset objects for train, validation, and test sets\n",
    "train_ds = tf.data.Dataset.from_tensor_slices((train, train_labels))\n",
    "val_ds = tf.data.Dataset.from_tensor_slices((val, val_labels))\n",
    "test_ds = tf.data.Dataset.from_tensor_slices((test, test_labels))\n",
    "\n",
    "# Shuffle and batch the datasets\n",
    "train_ds = train_ds.shuffle(len(train)).batch(batch_size)\n",
    "val_ds = val_ds.batch(batch_size)\n",
    "test_ds = test_ds.batch(batch_size)\n",
    "\n",
    "# Cache and prefetch the datasets\n",
    "train_ds = train_ds.cache().prefetch(buffer_size=AUTOTUNE)\n",
    "val_ds = val_ds.cache().prefetch(buffer_size=AUTOTUNE)\n",
    "test_ds = test_ds.cache().prefetch(buffer_size=AUTOTUNE)\n",
    "\n",
    "class_names = ['negative', 'neutral', 'positive']"
   ]
  },
  {
   "cell_type": "markdown",
   "id": "bee98031",
   "metadata": {},
   "source": [
    "Let's take a look at a few samples."
   ]
  },
  {
   "cell_type": "code",
   "execution_count": 65,
   "id": "04ddb116",
   "metadata": {},
   "outputs": [
    {
     "name": "stdout",
     "output_type": "stream",
     "text": [
      "Sentence: b'Average yearly return: +27% https://t.co/npXwy7CHFR'\n",
      "Label : 2 (positive)\n",
      "Sentence: b'\"All YIT Capital Markets Day materials will be available on the company \\'s Internet site at www.yitgroup.com/investors at 10:30 on September 26 .\"'\n",
      "Label : 1 (neutral)\n",
      "Sentence: b\"'Via the move , the company aims annual savings of some EUR3m , the main part of which are expected to be realized this year .'\"\n",
      "Label : 2 (positive)\n"
     ]
    },
    {
     "name": "stderr",
     "output_type": "stream",
     "text": [
      "2024-04-20 03:57:14.305530: W tensorflow/core/kernels/data/cache_dataset_ops.cc:854] The calling iterator did not fully read the dataset being cached. In order to avoid unexpected truncation of the dataset, the partially cached contents of the dataset  will be discarded. This can happen if you have an input pipeline similar to `dataset.cache().take(k).repeat()`. You should use `dataset.take(k).cache().repeat()` instead.\n"
     ]
    }
   ],
   "source": [
    "for text_batch, label_batch in train_ds.take(1):\n",
    "  for i in range(3):\n",
    "    print(f'Sentence: {text_batch.numpy()[i]}')\n",
    "    label = label_batch.numpy()[i]\n",
    "    print(f'Label : {label} ({class_names[label]})')"
   ]
  },
  {
   "cell_type": "markdown",
   "id": "6fccc983",
   "metadata": {},
   "source": [
    "## Loading Models from TensorFlow Hub"
   ]
  },
  {
   "cell_type": "markdown",
   "id": "cd85f877",
   "metadata": {},
   "source": [
    "TensorFlow Hub provides various kinds of BERT which can tackle different needs. For example:\n",
    "- [Small BERT](https://www.kaggle.com/models?id=199%2C16%2C113%2C258%2C19%2C27%2C91%2C191%2C17%2C244%2C100%2C274%2C176&tfhub-redirect=true) : Fewer Transformer blocks, which allows users to strike a balance between speed, size and quality.\n",
    "- [ALBERT](https://www.kaggle.com/models?id=16%2C17&tfhub-redirect=true) : Reduces model size by sharing parameters between layers.\n",
    "- [Electra](https://www.kaggle.com/models?id=258%2C244&tfhub-redirect=true) : Shares the identical structure as BERT, but undergoes pre-training as a discriminator within a configuration that mimics a Generative Adversarial Network.\n",
    "\n",
    "<div style=\"text-align: justify\">\n",
    "Here, we have selected Small BERT due to its compact size and efficiency. As we only have limited time, Small BERT offers a good balance between model performance and computational resources. It allows for faster training and inference while still capturing essential language representations.</div>"
   ]
  },
  {
   "cell_type": "code",
   "execution_count": 66,
   "id": "6a9feb37",
   "metadata": {},
   "outputs": [
    {
     "name": "stdout",
     "output_type": "stream",
     "text": [
      "BERT model selected           : https://tfhub.dev/tensorflow/small_bert/bert_en_uncased_L-4_H-512_A-8/1\n",
      "Preprocess model auto-selected: https://tfhub.dev/tensorflow/bert_en_uncased_preprocess/3\n"
     ]
    }
   ],
   "source": [
    "bert_model_name = 'small_bert/bert_en_uncased_L-4_H-512_A-8' \n",
    "\n",
    "map_name_to_handle = {\n",
    "    'small_bert/bert_en_uncased_L-4_H-512_A-8':\n",
    "        'https://tfhub.dev/tensorflow/small_bert/bert_en_uncased_L-4_H-512_A-8/1'}\n",
    "\n",
    "map_model_to_preprocess = {\n",
    "    'small_bert/bert_en_uncased_L-4_H-512_A-8':\n",
    "        'https://tfhub.dev/tensorflow/bert_en_uncased_preprocess/3'}\n",
    "\n",
    "tfhub_handle_encoder = map_name_to_handle[bert_model_name]\n",
    "tfhub_handle_preprocess = map_model_to_preprocess[bert_model_name]\n",
    "\n",
    "print(f'BERT model selected           : {tfhub_handle_encoder}')\n",
    "print(f'Preprocess model auto-selected: {tfhub_handle_preprocess}')"
   ]
  },
  {
   "cell_type": "markdown",
   "id": "50efd790",
   "metadata": {},
   "source": [
    "## Model Training"
   ]
  },
  {
   "cell_type": "code",
   "execution_count": 76,
   "id": "2fae5d5c",
   "metadata": {},
   "outputs": [],
   "source": [
    "def build_classifier_model():\n",
    "  # Define input layer for text\n",
    "  text_input = tf.keras.layers.Input(shape=(), dtype=tf.string, name='text')\n",
    "  # Preprocessing layer using TensorFlow Hub\n",
    "  preprocessing_layer = hub.KerasLayer(tfhub_handle_preprocess, name='preprocessing')\n",
    "  encoder_inputs = preprocessing_layer(text_input)\n",
    "  # BERT encoder layer using TensorFlow Hub\n",
    "  encoder = hub.KerasLayer(tfhub_handle_encoder, trainable=True, name='BERT_encoder')\n",
    "  outputs = encoder(encoder_inputs)\n",
    "  # Extract pooled output from BERT\n",
    "  net = outputs['pooled_output']\n",
    "  # Apply dropout for regularization\n",
    "  net = tf.keras.layers.Dropout(0.1)(net)\n",
    "  # Final classification layer\n",
    "  net = tf.keras.layers.Dense(3, activation=None, name='classifier')(net)\n",
    "\n",
    "  return tf.keras.Model(text_input, net)"
   ]
  },
  {
   "cell_type": "markdown",
   "id": "cad57b13",
   "metadata": {},
   "source": [
    "### Loss Function"
   ]
  },
  {
   "cell_type": "markdown",
   "id": "d36496f0",
   "metadata": {},
   "source": [
    "Since this is a classification problem with 3 classes, we will use `losses.SparseCategoricalCrossentropy` loss function."
   ]
  },
  {
   "cell_type": "code",
   "execution_count": 68,
   "id": "2deef53a",
   "metadata": {},
   "outputs": [],
   "source": [
    "loss = tf.keras.losses.SparseCategoricalCrossentropy(from_logits=True)\n",
    "metrics = tf.metrics.SparseCategoricalAccuracy()"
   ]
  },
  {
   "cell_type": "markdown",
   "id": "0cde06ec",
   "metadata": {},
   "source": [
    "### Optimizer"
   ]
  },
  {
   "cell_type": "markdown",
   "id": "3c5927b7",
   "metadata": {},
   "source": [
    "<div style=\"text-align: justify\">For the fine-tuning process, we will utilize the Adam optimizer, which was originally employed during the training of BERT. This optimizer is responsible for minimizing the loss associated with predictions, while also performing weight decay for regularization purposes.\n",
    "<br><br>\n",
    "Regarding the learning rate (<code>init_lr</code>), we will adopt the same schedule employed during BERT pre-training. This schedule involves a linear decay of an initial learning rate, preceded by a linear warm-up phase that spans the first 10% of the training steps (<code>num_warmup_steps</code>). According to the <a href=\"https://arxiv.org/pdf/1810.04805.pdf\">BERT paper</a>, a smaller initial learning rate is preferable for fine-tuning, with potential options being 5e-5, 3e-5, or 2e-5.</div>"
   ]
  },
  {
   "cell_type": "code",
   "execution_count": 77,
   "id": "b0603e9b",
   "metadata": {},
   "outputs": [],
   "source": [
    "epochs = 5\n",
    "steps_per_epoch = tf.data.experimental.cardinality(train_ds).numpy()\n",
    "num_train_steps = steps_per_epoch * epochs\n",
    "num_warmup_steps = int(0.1*num_train_steps)\n",
    "\n",
    "init_lr = 3e-5\n",
    "optimizer = optimization.create_optimizer(init_lr=init_lr,\n",
    "                                          num_train_steps=num_train_steps,\n",
    "                                          num_warmup_steps=num_warmup_steps,\n",
    "                                          optimizer_type='adamw')"
   ]
  },
  {
   "cell_type": "markdown",
   "id": "2220ec10",
   "metadata": {},
   "source": [
    "### Loading the BERT Model and Training"
   ]
  },
  {
   "cell_type": "code",
   "execution_count": 78,
   "id": "3fb2bae3",
   "metadata": {},
   "outputs": [
    {
     "name": "stderr",
     "output_type": "stream",
     "text": [
      "2024-04-20 03:59:55.772093: W tensorflow/core/kernels/data/cache_dataset_ops.cc:854] The calling iterator did not fully read the dataset being cached. In order to avoid unexpected truncation of the dataset, the partially cached contents of the dataset  will be discarded. This can happen if you have an input pipeline similar to `dataset.cache().take(k).repeat()`. You should use `dataset.take(k).cache().repeat()` instead.\n"
     ]
    }
   ],
   "source": [
    "classifier_model = build_classifier_model()\n",
    "classifier_model.compile(optimizer=optimizer,\n",
    "                         loss=loss,\n",
    "                         metrics=metrics)"
   ]
  },
  {
   "cell_type": "code",
   "execution_count": 79,
   "id": "a9f9efe8",
   "metadata": {},
   "outputs": [
    {
     "name": "stdout",
     "output_type": "stream",
     "text": [
      "Training model with https://tfhub.dev/tensorflow/small_bert/bert_en_uncased_L-4_H-512_A-8/1\n",
      "Epoch 1/5\n",
      "140/140 [==============================] - 374s 3s/step - loss: 0.8845 - sparse_categorical_accuracy: 0.5955 - val_loss: 0.6719 - val_sparse_categorical_accuracy: 0.6962\n",
      "Epoch 2/5\n",
      "140/140 [==============================] - 384s 3s/step - loss: 0.6236 - sparse_categorical_accuracy: 0.7442 - val_loss: 0.5803 - val_sparse_categorical_accuracy: 0.7534\n",
      "Epoch 3/5\n",
      "140/140 [==============================] - 367s 3s/step - loss: 0.4927 - sparse_categorical_accuracy: 0.8055 - val_loss: 0.5480 - val_sparse_categorical_accuracy: 0.7784\n",
      "Epoch 4/5\n",
      "140/140 [==============================] - 367s 3s/step - loss: 0.4100 - sparse_categorical_accuracy: 0.8386 - val_loss: 0.5633 - val_sparse_categorical_accuracy: 0.7873\n",
      "Epoch 5/5\n",
      "140/140 [==============================] - 368s 3s/step - loss: 0.3589 - sparse_categorical_accuracy: 0.8567 - val_loss: 0.5744 - val_sparse_categorical_accuracy: 0.7775\n"
     ]
    }
   ],
   "source": [
    "print(f'Training model with {tfhub_handle_encoder}')\n",
    "history = classifier_model.fit(x=train_ds,\n",
    "                               validation_data=val_ds,\n",
    "                               epochs=epochs)"
   ]
  },
  {
   "cell_type": "markdown",
   "id": "be2bd82b",
   "metadata": {},
   "source": [
    "### Evaluate the Model with Test Set"
   ]
  },
  {
   "cell_type": "code",
   "execution_count": 80,
   "id": "02dff974",
   "metadata": {},
   "outputs": [
    {
     "name": "stdout",
     "output_type": "stream",
     "text": [
      "44/44 [==============================] - 32s 733ms/step - loss: 0.5302 - sparse_categorical_accuracy: 0.7847\n",
      "Loss: 0.5302212238311768\n",
      "Accuracy: 0.7846924066543579\n"
     ]
    }
   ],
   "source": [
    "loss, accuracy = classifier_model.evaluate(test_ds)\n",
    "\n",
    "print(f'Loss: {loss}')\n",
    "print(f'Accuracy: {accuracy}')"
   ]
  },
  {
   "cell_type": "markdown",
   "id": "02f7ee0f",
   "metadata": {},
   "source": [
    "### Plot the Accuracy and Loss over Time"
   ]
  },
  {
   "cell_type": "code",
   "execution_count": 81,
   "id": "a6a4fda1",
   "metadata": {},
   "outputs": [
    {
     "name": "stdout",
     "output_type": "stream",
     "text": [
      "dict_keys(['loss', 'sparse_categorical_accuracy', 'val_loss', 'val_sparse_categorical_accuracy'])\n"
     ]
    },
    {
     "data": {
      "text/plain": [
       "<matplotlib.legend.Legend at 0x7fb87f4b07f0>"
      ]
     },
     "execution_count": 81,
     "metadata": {},
     "output_type": "execute_result"
    },
    {
     "data": {
      "image/png": "[encoded data removed]",
      "text/plain": [
       "<Figure size 1000x600 with 2 Axes>"
      ]
     },
     "metadata": {},
     "output_type": "display_data"
    }
   ],
   "source": [
    "history_dict = history.history\n",
    "print(history_dict.keys())\n",
    "\n",
    "acc = history_dict['sparse_categorical_accuracy']\n",
    "val_acc = history_dict['val_sparse_categorical_accuracy']\n",
    "loss = history_dict['loss']\n",
    "val_loss = history_dict['val_loss']\n",
    "\n",
    "epochs = range(1, len(acc) + 1)\n",
    "fig = plt.figure(figsize=(10, 6))\n",
    "fig.tight_layout()\n",
    "\n",
    "plt.subplot(2, 1, 1)\n",
    "# r is for \"solid red line\"\n",
    "plt.plot(epochs, loss, 'r', label='Training loss')\n",
    "# b is for \"solid blue line\"\n",
    "plt.plot(epochs, val_loss, 'b', label='Validation loss')\n",
    "plt.title('Training and validation loss')\n",
    "# plt.xlabel('Epochs')\n",
    "plt.ylabel('Loss')\n",
    "plt.legend()\n",
    "\n",
    "plt.subplot(2, 1, 2)\n",
    "plt.plot(epochs, acc, 'r', label='Training acc')\n",
    "plt.plot(epochs, val_acc, 'b', label='Validation acc')\n",
    "plt.title('Training and validation accuracy')\n",
    "plt.xlabel('Epochs')\n",
    "plt.ylabel('Accuracy')\n",
    "plt.legend(loc='lower right')"
   ]
  },
  {
   "cell_type": "markdown",
   "id": "f490cabb",
   "metadata": {},
   "source": [
    "## Export the Model"
   ]
  },
  {
   "cell_type": "markdown",
   "id": "35e87ab4",
   "metadata": {},
   "source": [
    "After we have fine tuned the BERT model, we can now export and save it for later use."
   ]
  },
  {
   "cell_type": "code",
   "execution_count": 82,
   "id": "0d4e10a4",
   "metadata": {},
   "outputs": [],
   "source": [
    "dataset_name = 'sentiment'\n",
    "saved_model_path = './{}_bert'.format(dataset_name.replace('/', '_'))\n",
    "\n",
    "classifier_model.save(saved_model_path, include_optimizer=False)"
   ]
  },
  {
   "cell_type": "markdown",
   "id": "505f9c4a",
   "metadata": {},
   "source": [
    "## Reload our Model"
   ]
  },
  {
   "cell_type": "code",
   "execution_count": 2,
   "id": "039850df",
   "metadata": {},
   "outputs": [],
   "source": [
    "reloaded_model = tf.saved_model.load('sentiment_bert')"
   ]
  },
  {
   "cell_type": "markdown",
   "id": "842154d0",
   "metadata": {},
   "source": [
    "<div style=\"text-align: justify\">Let's define a function that create a <code>pandas dataframe</code> to display the output of our model, the output will be displayed in the form of <code>[sentence, logit, prediction, sentiment score]</code>.</div>"
   ]
  },
  {
   "cell_type": "code",
   "execution_count": 3,
   "id": "8a01084f",
   "metadata": {},
   "outputs": [],
   "source": [
    "def print_result(inputs):\n",
    "    # Logit\n",
    "    logits = tf.nn.softmax(reloaded_model(tf.constant(examples))).numpy().tolist()\n",
    "    round_logits = [[round(value, 6) for value in sublist] for sublist in logits]\n",
    "    # Prediction\n",
    "    predict = tf.argmax(logits, axis=1)\n",
    "    label_mapping = {0: \"negative\", 1: \"neutral\", 2: \"positive\"}\n",
    "    labels = [label_mapping[label] for label in predict.numpy()]\n",
    "    # Sentiment score\n",
    "    class_score = [0,5,10]\n",
    "    sentiments = [\"{:.6f}\".format(np.dot(i, class_score)) for i in logits]\n",
    "    # Create a data frame\n",
    "    df = pd.DataFrame({'Sentence':inputs,'Logit':round_logits,'Prediction':labels,\\\n",
    "                       'Sentiment Score':sentiments})\n",
    "    pd.set_option('display.max_colwidth', None)  \n",
    "    return df"
   ]
  },
  {
   "cell_type": "markdown",
   "id": "c87e68b4",
   "metadata": {},
   "source": [
    "Here we try on few examples:"
   ]
  },
  {
   "cell_type": "code",
   "execution_count": 6,
   "id": "6b986a81",
   "metadata": {
    "scrolled": true
   },
   "outputs": [
    {
     "data": {
      "text/html": [
       "<div>\n",
       "<style scoped>\n",
       "    .dataframe tbody tr th:only-of-type {\n",
       "        vertical-align: middle;\n",
       "    }\n",
       "\n",
       "    .dataframe tbody tr th {\n",
       "        vertical-align: top;\n",
       "    }\n",
       "\n",
       "    .dataframe thead th {\n",
       "        text-align: right;\n",
       "    }\n",
       "</style>\n",
       "<table border=\"1\" class=\"dataframe\">\n",
       "  <thead>\n",
       "    <tr style=\"text-align: right;\">\n",
       "      <th></th>\n",
       "      <th>Sentence</th>\n",
       "      <th>Logit</th>\n",
       "      <th>Prediction</th>\n",
       "      <th>Sentiment Score</th>\n",
       "    </tr>\n",
       "  </thead>\n",
       "  <tbody>\n",
       "    <tr>\n",
       "      <th>0</th>\n",
       "      <td>Google announced a slew of AI enhancements designed to help customers take advantage of the Gemini large language model (LLM) and improve productivity across the platform.</td>\n",
       "      <td>[0.003741, 0.027686, 0.968573]</td>\n",
       "      <td>positive</td>\n",
       "      <td>9.824157</td>\n",
       "    </tr>\n",
       "    <tr>\n",
       "      <th>1</th>\n",
       "      <td>OpenAI’s Sam Altman is funding a green-energy moonshot as AI’s power demands grow to ‘insatiable’ levels</td>\n",
       "      <td>[0.011034, 0.006165, 0.9828]</td>\n",
       "      <td>positive</td>\n",
       "      <td>9.858830</td>\n",
       "    </tr>\n",
       "    <tr>\n",
       "      <th>2</th>\n",
       "      <td>AI is threatening Americans’ jobs. Could guaranteed income provide a safety net?</td>\n",
       "      <td>[0.965994, 0.014609, 0.019397]</td>\n",
       "      <td>negative</td>\n",
       "      <td>0.267014</td>\n",
       "    </tr>\n",
       "    <tr>\n",
       "      <th>3</th>\n",
       "      <td>Could Elon Musk’s Release of the Chatbot Code Help You Make Money With AI?</td>\n",
       "      <td>[0.431988, 0.449198, 0.118814]</td>\n",
       "      <td>neutral</td>\n",
       "      <td>3.434129</td>\n",
       "    </tr>\n",
       "    <tr>\n",
       "      <th>4</th>\n",
       "      <td>Why \"dark AI\" is a top cybersecurity concern for 2024</td>\n",
       "      <td>[0.94088, 0.010882, 0.048238]</td>\n",
       "      <td>negative</td>\n",
       "      <td>0.536792</td>\n",
       "    </tr>\n",
       "  </tbody>\n",
       "</table>\n",
       "</div>"
      ],
      "text/plain": [
       "                                                                                                                                                                       Sentence  \\\n",
       "0  Google announced a slew of AI enhancements designed to help customers take advantage of the Gemini large language model (LLM) and improve productivity across the platform.    \n",
       "1                                                                      OpenAI’s Sam Altman is funding a green-energy moonshot as AI’s power demands grow to ‘insatiable’ levels   \n",
       "2                                                                                              AI is threatening Americans’ jobs. Could guaranteed income provide a safety net?   \n",
       "3                                                                                                    Could Elon Musk’s Release of the Chatbot Code Help You Make Money With AI?   \n",
       "4                                                                                                                         Why \"dark AI\" is a top cybersecurity concern for 2024   \n",
       "\n",
       "                            Logit Prediction Sentiment Score  \n",
       "0  [0.003741, 0.027686, 0.968573]   positive        9.824157  \n",
       "1    [0.011034, 0.006165, 0.9828]   positive        9.858830  \n",
       "2  [0.965994, 0.014609, 0.019397]   negative        0.267014  \n",
       "3  [0.431988, 0.449198, 0.118814]    neutral        3.434129  \n",
       "4   [0.94088, 0.010882, 0.048238]   negative        0.536792  "
      ]
     },
     "execution_count": 6,
     "metadata": {},
     "output_type": "execute_result"
    }
   ],
   "source": [
    "examples = [\n",
    "    'Google announced a slew of AI enhancements designed to help customers take advantage of the Gemini large language model (LLM) and improve productivity across the platform. ',\\\n",
    "    'OpenAI’s Sam Altman is funding a green-energy moonshot as AI’s power demands grow to ‘insatiable’ levels',\\\n",
    "    'AI is threatening Americans’ jobs. Could guaranteed income provide a safety net?',\\\n",
    "    'Could Elon Musk’s Release of the Chatbot Code Help You Make Money With AI?',\\\n",
    "    'Why \"dark AI\" is a top cybersecurity concern for 2024'\\\n",
    "]\n",
    "\n",
    "print_result(examples)"
   ]
  }
 ],
 "metadata": {
  "hide_input": false,
  "kernelspec": {
   "display_name": "Python 3 (ipykernel)",
   "language": "python",
   "name": "python3"
  },
  "language_info": {
   "codemirror_mode": {
    "name": "ipython",
    "version": 3
   },
   "file_extension": ".py",
   "mimetype": "text/x-python",
   "name": "python",
   "nbconvert_exporter": "python",
   "pygments_lexer": "ipython3",
   "version": "3.9.18"
  }
 },
 "nbformat": 4,
 "nbformat_minor": 5
}
